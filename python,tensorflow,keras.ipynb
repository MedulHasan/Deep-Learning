{
  "nbformat": 4,
  "nbformat_minor": 0,
  "metadata": {
    "colab": {
      "name": "python,tensorflow,keras.ipynb",
      "provenance": [],
      "authorship_tag": "ABX9TyNLqZ3IxktJOON7ufFhfqTN",
      "include_colab_link": true
    },
    "kernelspec": {
      "name": "python3",
      "display_name": "Python 3"
    },
    "accelerator": "GPU"
  },
  "cells": [
    {
      "cell_type": "markdown",
      "metadata": {
        "id": "view-in-github",
        "colab_type": "text"
      },
      "source": [
        "<a href=\"https://colab.research.google.com/github/MedulHasan/Deep-Learning/blob/master/python%2Ctensorflow%2Ckeras.ipynb\" target=\"_parent\"><img src=\"https://colab.research.google.com/assets/colab-badge.svg\" alt=\"Open In Colab\"/></a>"
      ]
    },
    {
      "cell_type": "code",
      "metadata": {
        "id": "pmBSWaYg5p_C"
      },
      "source": [
        "import tensorflow as tf"
      ],
      "execution_count": 1,
      "outputs": []
    },
    {
      "cell_type": "code",
      "metadata": {
        "colab": {
          "base_uri": "https://localhost:8080/"
        },
        "id": "lDhNYcWz7k-v",
        "outputId": "aa7f83d3-34bf-4466-ec11-71ceeb5bdc10"
      },
      "source": [
        "# split data\r\n",
        "(x_train, y_train), (x_test, y_test) = tf.keras.datasets.mnist .load_data()\r\n",
        "x_train.shape"
      ],
      "execution_count": 2,
      "outputs": [
        {
          "output_type": "execute_result",
          "data": {
            "text/plain": [
              "(60000, 28, 28)"
            ]
          },
          "metadata": {
            "tags": []
          },
          "execution_count": 2
        }
      ]
    },
    {
      "cell_type": "code",
      "metadata": {
        "colab": {
          "base_uri": "https://localhost:8080/"
        },
        "id": "uJRuXs6mX_sz",
        "outputId": "dc1aa06b-5310-4ffb-ef97-ee475daec0cb"
      },
      "source": [
        "x_test.shape"
      ],
      "execution_count": 3,
      "outputs": [
        {
          "output_type": "execute_result",
          "data": {
            "text/plain": [
              "(10000, 28, 28)"
            ]
          },
          "metadata": {
            "tags": []
          },
          "execution_count": 3
        }
      ]
    },
    {
      "cell_type": "code",
      "metadata": {
        "id": "dVeL5gFS86gc"
      },
      "source": [
        "# normalize the data into[0-1]\r\n",
        "x_train = tf.keras.utils.normalize(x_train, axis=1)\r\n",
        "x_test = tf.keras.utils.normalize(x_test, axis=1)"
      ],
      "execution_count": 4,
      "outputs": []
    },
    {
      "cell_type": "code",
      "metadata": {
        "colab": {
          "base_uri": "https://localhost:8080/",
          "height": 265
        },
        "id": "KL9bXxLs74ji",
        "outputId": "f32085e0-b0ef-492b-8cd8-ae34fda4838a"
      },
      "source": [
        "import matplotlib.pyplot as plt\r\n",
        "\r\n",
        "# plt.imshow(x_train[], cmap = plt.cm.binary)\r\n",
        "plt.imshow(x_train[7])\r\n",
        "plt.show()\r\n",
        "\r\n",
        "# print(x_train[8])"
      ],
      "execution_count": 5,
      "outputs": [
        {
          "output_type": "display_data",
          "data": {
            "image/png": "[encoded data removed]",
            "text/plain": [
              "<Figure size 432x288 with 1 Axes>"
            ]
          },
          "metadata": {
            "tags": [],
            "needs_background": "light"
          }
        }
      ]
    },
    {
      "cell_type": "code",
      "metadata": {
        "colab": {
          "base_uri": "https://localhost:8080/"
        },
        "id": "gKJKswWxT90m",
        "outputId": "881dab5a-48bb-4f2d-e73c-5c51f353eab5"
      },
      "source": [
        "# build model\r\n",
        "\r\n",
        "# input layer\r\n",
        "model = tf.keras.models.Sequential()\r\n",
        "model.add(tf.keras.layers.Flatten())\r\n",
        "\r\n",
        "# hidden layer\r\n",
        "model.add(tf.keras.layers.Dense(128, activation=tf.nn.relu))\r\n",
        "model.add(tf.keras.layers.Dense(128, activation=tf.nn.relu))\r\n",
        "\r\n",
        "# output layer\r\n",
        "model.add(tf.keras.layers.Dense(10, activation=tf.nn.softmax))\r\n",
        "\r\n",
        "# compile\r\n",
        "model.compile(optimizer='adam', loss='sparse_categorical_crossentropy', metrics=['accuracy'])\r\n",
        "model.fit(x_train, y_train, epochs=5)"
      ],
      "execution_count": 6,
      "outputs": [
        {
          "output_type": "stream",
          "text": [
            "Epoch 1/5\n",
            "1875/1875 [==============================] - 4s 2ms/step - loss: 0.4682 - accuracy: 0.8620\n",
            "Epoch 2/5\n",
            "1875/1875 [==============================] - 3s 2ms/step - loss: 0.1068 - accuracy: 0.9670\n",
            "Epoch 3/5\n",
            "1875/1875 [==============================] - 3s 2ms/step - loss: 0.0707 - accuracy: 0.9786\n",
            "Epoch 4/5\n",
            "1875/1875 [==============================] - 3s 2ms/step - loss: 0.0521 - accuracy: 0.9835\n",
            "Epoch 5/5\n",
            "1875/1875 [==============================] - 3s 2ms/step - loss: 0.0388 - accuracy: 0.9875\n"
          ],
          "name": "stdout"
        },
        {
          "output_type": "execute_result",
          "data": {
            "text/plain": [
              "<tensorflow.python.keras.callbacks.History at 0x7fc1afc6d748>"
            ]
          },
          "metadata": {
            "tags": []
          },
          "execution_count": 6
        }
      ]
    },
    {
      "cell_type": "code",
      "metadata": {
        "colab": {
          "base_uri": "https://localhost:8080/"
        },
        "id": "2r0VQZcEabgl",
        "outputId": "7c30d72e-3c6c-46b8-bd3c-8f1c555c0fe1"
      },
      "source": [
        "val_loss, val_acc = model.evaluate(x_test, y_test)\r\n",
        "print(val_loss, val_acc)"
      ],
      "execution_count": 7,
      "outputs": [
        {
          "output_type": "stream",
          "text": [
            "313/313 [==============================] - 1s 2ms/step - loss: 0.0990 - accuracy: 0.9723\n",
            "0.0990479439496994 0.9722999930381775\n"
          ],
          "name": "stdout"
        }
      ]
    },
    {
      "cell_type": "code",
      "metadata": {
        "colab": {
          "base_uri": "https://localhost:8080/"
        },
        "id": "F6PoN4j2bbE7",
        "outputId": "0620d3d8-7165-45a9-d08a-0ff36ebeb4e2"
      },
      "source": [
        "prediction = model.predict([x_test])\r\n",
        "print(prediction)"
      ],
      "execution_count": 8,
      "outputs": [
        {
          "output_type": "stream",
          "text": [
            "WARNING:tensorflow:Layers in a Sequential model should only have a single input tensor, but we receive a <class 'tuple'> input: (<tf.Tensor 'IteratorGetNext:0' shape=(None, 28, 28) dtype=float32>,)\n",
            "Consider rewriting this model with the Functional API.\n",
            "[[2.6196548e-11 2.3949159e-10 1.1454461e-07 ... 9.9999738e-01\n",
            "  4.4135975e-09 6.7907160e-09]\n",
            " [2.1000988e-14 4.8765396e-06 9.9999487e-01 ... 8.1412299e-12\n",
            "  4.6310461e-10 9.4870622e-17]\n",
            " [2.1276158e-08 9.9978572e-01 7.2193893e-06 ... 9.4426439e-05\n",
            "  9.0488800e-05 4.7591072e-07]\n",
            " ...\n",
            " [2.6455402e-10 1.2326434e-07 8.6634133e-10 ... 1.6373140e-06\n",
            "  1.4920309e-05 4.5309527e-05]\n",
            " [5.0712163e-08 3.9990450e-10 5.7173072e-11 ... 3.7719102e-11\n",
            "  1.4392542e-06 2.3729693e-10]\n",
            " [4.1329501e-10 5.5443455e-10 1.1544166e-10 ... 3.8652024e-12\n",
            "  3.3036308e-08 2.7767669e-12]]\n"
          ],
          "name": "stdout"
        }
      ]
    },
    {
      "cell_type": "code",
      "metadata": {
        "colab": {
          "base_uri": "https://localhost:8080/"
        },
        "id": "R403OS-2cUik",
        "outputId": "0e6cf5de-c425-47a1-c7d2-50a25a3ad6d8"
      },
      "source": [
        "import numpy as np\r\n",
        "print(np.argmax(prediction[6]))"
      ],
      "execution_count": 9,
      "outputs": [
        {
          "output_type": "stream",
          "text": [
            "4\n"
          ],
          "name": "stdout"
        }
      ]
    },
    {
      "cell_type": "code",
      "metadata": {
        "colab": {
          "base_uri": "https://localhost:8080/",
          "height": 265
        },
        "id": "yDfM3yANcmZ4",
        "outputId": "5fe67b8f-18bf-4759-8798-f6cd8561cbae"
      },
      "source": [
        "plt.imshow(x_test[6])\r\n",
        "plt.show()"
      ],
      "execution_count": 10,
      "outputs": [
        {
          "output_type": "display_data",
          "data": {
            "image/png": "[encoded data removed]",
            "text/plain": [
              "<Figure size 432x288 with 1 Axes>"
            ]
          },
          "metadata": {
            "tags": [],
            "needs_background": "light"
          }
        }
      ]
    }
  ]
}