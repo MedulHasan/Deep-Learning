{
  "nbformat": 4,
  "nbformat_minor": 0,
  "metadata": {
    "colab": {
      "name": "Handwritten Digit Classification with ANN.ipynb",
      "provenance": []
    },
    "kernelspec": {
      "name": "python3",
      "display_name": "Python 3"
    }
  },
  "cells": [
    {
      "cell_type": "markdown",
      "metadata": {
        "id": "_CCRG137jOQ5"
      },
      "source": [
        "#Using keras and Tensorflow"
      ]
    },
    {
      "cell_type": "code",
      "metadata": {
        "id": "B05ujuKBjIw7"
      },
      "source": [
        "#keras model\r\n",
        "#Activation Function\r\n",
        "#Loss Function\r\n",
        "#Optimizer"
      ],
      "execution_count": null,
      "outputs": []
    },
    {
      "cell_type": "code",
      "metadata": {
        "id": "71UoWVzOmcOZ"
      },
      "source": [
        "#import libraries\r\n",
        "import numpy as np\r\n",
        "import matplotlib.pyplot as plt\r\n",
        "import tensorflow as tf\r\n",
        "from tensorflow import keras\r\n",
        "import keras\r\n",
        "from keras.layers import Dense\r\n",
        "from keras.utils import to_categorical\r\n",
        "import seaborn"
      ],
      "execution_count": null,
      "outputs": []
    },
    {
      "cell_type": "code",
      "metadata": {
        "id": "Fig6_hPzorcn"
      },
      "source": [
        "#load dataset\r\n",
        "(xtrain, ytrain), (xtest, ytest) = keras.datasets.mnist.load_data()"
      ],
      "execution_count": null,
      "outputs": []
    },
    {
      "cell_type": "code",
      "metadata": {
        "colab": {
          "base_uri": "https://localhost:8080/"
        },
        "id": "dfJ57LWlo5V3",
        "outputId": "fe3f5f77-d23f-414e-ef1c-d818f9e274de"
      },
      "source": [
        "xtrain.shape"
      ],
      "execution_count": null,
      "outputs": [
        {
          "output_type": "execute_result",
          "data": {
            "text/plain": [
              "(60000, 28, 28)"
            ]
          },
          "metadata": {
            "tags": []
          },
          "execution_count": 4
        }
      ]
    },
    {
      "cell_type": "code",
      "metadata": {
        "id": "-xH_4gpUp4ag"
      },
      "source": [
        "xtest[1]"
      ],
      "execution_count": null,
      "outputs": []
    },
    {
      "cell_type": "code",
      "metadata": {
        "colab": {
          "base_uri": "https://localhost:8080/",
          "height": 292
        },
        "id": "DXnWuG2pXCvZ",
        "outputId": "ec75e451-acbd-4312-db00-f4bb9193caea"
      },
      "source": [
        "plt.matshow(xtest[100])"
      ],
      "execution_count": null,
      "outputs": [
        {
          "output_type": "execute_result",
          "data": {
            "text/plain": [
              "<matplotlib.image.AxesImage at 0x7f5f38c2a860>"
            ]
          },
          "metadata": {
            "tags": []
          },
          "execution_count": 6
        },
        {
          "output_type": "display_data",
          "data": {
            "image/png": "[encoded data removed]",
            "text/plain": [
              "<Figure size 288x288 with 1 Axes>"
            ]
          },
          "metadata": {
            "tags": [],
            "needs_background": "light"
          }
        }
      ]
    },
    {
      "cell_type": "code",
      "metadata": {
        "id": "UXP-QLCHYG4o"
      },
      "source": [
        "#normalize data\r\n",
        "xtrain = xtrain/255\r\n",
        "xtest = xtest/255"
      ],
      "execution_count": null,
      "outputs": []
    },
    {
      "cell_type": "code",
      "metadata": {
        "id": "pnLQ4lJ4YR56"
      },
      "source": [
        "xtest[1]"
      ],
      "execution_count": null,
      "outputs": []
    },
    {
      "cell_type": "code",
      "metadata": {
        "id": "B0kHHH29ZQZE"
      },
      "source": [
        "xtrain = xtrain.reshape(-1, (28*28))\r\n",
        "xtest = xtest.reshape(-1, 784)"
      ],
      "execution_count": null,
      "outputs": []
    },
    {
      "cell_type": "code",
      "metadata": {
        "colab": {
          "base_uri": "https://localhost:8080/"
        },
        "id": "iI6UZ_z5ZaYg",
        "outputId": "cac14b79-a79c-4002-f08d-2227badbb3ab"
      },
      "source": [
        "xtrain[100].shape"
      ],
      "execution_count": null,
      "outputs": [
        {
          "output_type": "execute_result",
          "data": {
            "text/plain": [
              "(784,)"
            ]
          },
          "metadata": {
            "tags": []
          },
          "execution_count": 10
        }
      ]
    },
    {
      "cell_type": "code",
      "metadata": {
        "id": "EJXYt7cna9QO"
      },
      "source": [
        "#build the model\r\n",
        "#sequential\r\n",
        "#3 layers, first 2 layers 64 neuron and relu function\r\n",
        "#output layer 10 neuron and softmax function\r\n",
        "\r\n",
        "model = keras.Sequential()\r\n",
        "model.add(Dense(64, activation='relu', input_dim=784)) #input layer\r\n",
        "model.add(Dense(64, activation='relu')) #hidden layer\r\n",
        "model.add(Dense(10, activation='softmax')) #output layer"
      ],
      "execution_count": null,
      "outputs": []
    },
    {
      "cell_type": "code",
      "metadata": {
        "id": "_U2vP340buvf"
      },
      "source": [
        "model.compile(\r\n",
        "    optimizer = 'adam',\r\n",
        "    loss = 'categorical_crossentropy',\r\n",
        "    metrics = ['accuracy']\r\n",
        ")"
      ],
      "execution_count": null,
      "outputs": []
    },
    {
      "cell_type": "code",
      "metadata": {
        "colab": {
          "base_uri": "https://localhost:8080/"
        },
        "id": "FHGEyj-PcysG",
        "outputId": "42d10d1b-7f93-4f98-f4b6-f7e3f5753019"
      },
      "source": [
        "#train the model\r\n",
        "model.fit(xtrain,\r\n",
        "          to_categorical(ytrain),\r\n",
        "          epochs = 10,\r\n",
        "          batch_size = 32,\r\n",
        "          )"
      ],
      "execution_count": null,
      "outputs": [
        {
          "output_type": "stream",
          "text": [
            "Epoch 1/10\n",
            "1875/1875 [==============================] - 3s 2ms/step - loss: 0.4882 - accuracy: 0.8605\n",
            "Epoch 2/10\n",
            "1875/1875 [==============================] - 3s 2ms/step - loss: 0.1256 - accuracy: 0.9623\n",
            "Epoch 3/10\n",
            "1875/1875 [==============================] - 3s 2ms/step - loss: 0.0893 - accuracy: 0.9736\n",
            "Epoch 4/10\n",
            "1875/1875 [==============================] - 3s 2ms/step - loss: 0.0711 - accuracy: 0.9782\n",
            "Epoch 5/10\n",
            "1875/1875 [==============================] - 3s 2ms/step - loss: 0.0554 - accuracy: 0.9836\n",
            "Epoch 6/10\n",
            "1875/1875 [==============================] - 3s 2ms/step - loss: 0.0440 - accuracy: 0.9857\n",
            "Epoch 7/10\n",
            "1875/1875 [==============================] - 3s 2ms/step - loss: 0.0405 - accuracy: 0.9867\n",
            "Epoch 8/10\n",
            "1875/1875 [==============================] - 3s 2ms/step - loss: 0.0347 - accuracy: 0.9889\n",
            "Epoch 9/10\n",
            "1875/1875 [==============================] - 3s 2ms/step - loss: 0.0289 - accuracy: 0.9906\n",
            "Epoch 10/10\n",
            "1875/1875 [==============================] - 3s 2ms/step - loss: 0.0231 - accuracy: 0.9921\n"
          ],
          "name": "stdout"
        },
        {
          "output_type": "execute_result",
          "data": {
            "text/plain": [
              "<tensorflow.python.keras.callbacks.History at 0x7f5f348441d0>"
            ]
          },
          "metadata": {
            "tags": []
          },
          "execution_count": 13
        }
      ]
    },
    {
      "cell_type": "code",
      "metadata": {
        "colab": {
          "base_uri": "https://localhost:8080/"
        },
        "id": "xwFdQRULdVs6",
        "outputId": "85f3d2ac-e919-48c4-eb10-af3044928bd6"
      },
      "source": [
        "#evaluate the model\r\n",
        "model.evaluate(xtest, to_categorical(ytest))"
      ],
      "execution_count": null,
      "outputs": [
        {
          "output_type": "stream",
          "text": [
            "313/313 [==============================] - 0s 958us/step - loss: 0.1003 - accuracy: 0.9749\n"
          ],
          "name": "stdout"
        },
        {
          "output_type": "execute_result",
          "data": {
            "text/plain": [
              "[0.10030151158571243, 0.9749000072479248]"
            ]
          },
          "metadata": {
            "tags": []
          },
          "execution_count": 14
        }
      ]
    },
    {
      "cell_type": "code",
      "metadata": {
        "colab": {
          "base_uri": "https://localhost:8080/"
        },
        "id": "rJIXCbpDd9gs",
        "outputId": "0964a158-3a93-4a8a-c2b7-3639a39e1c5c"
      },
      "source": [
        "pred = model.predict(xtest)\r\n",
        "pred"
      ],
      "execution_count": null,
      "outputs": [
        {
          "output_type": "execute_result",
          "data": {
            "text/plain": [
              "array([[2.44733400e-10, 8.92067236e-12, 6.61985222e-09, ...,\n",
              "        1.00000000e+00, 1.93988908e-10, 6.01788663e-09],\n",
              "       [2.14140641e-12, 9.46737444e-09, 1.00000000e+00, ...,\n",
              "        8.03311171e-16, 3.82323383e-12, 7.01186116e-19],\n",
              "       [3.14182842e-07, 9.99411464e-01, 1.46111815e-05, ...,\n",
              "        6.53082998e-06, 5.31930360e-04, 1.34227163e-08],\n",
              "       ...,\n",
              "       [8.56993174e-14, 1.00599325e-14, 2.22928865e-15, ...,\n",
              "        1.49841846e-08, 1.53206858e-09, 2.90557455e-06],\n",
              "       [1.18926551e-14, 7.67737002e-13, 7.60025194e-17, ...,\n",
              "        6.18069745e-12, 6.57876399e-07, 9.72184843e-14],\n",
              "       [2.48751963e-10, 6.29010563e-15, 7.80049723e-12, ...,\n",
              "        7.83200875e-17, 4.46580793e-12, 2.16552680e-14]], dtype=float32)"
            ]
          },
          "metadata": {
            "tags": []
          },
          "execution_count": 15
        }
      ]
    },
    {
      "cell_type": "code",
      "metadata": {
        "colab": {
          "base_uri": "https://localhost:8080/"
        },
        "id": "Xa2bS8kleMLN",
        "outputId": "b20049ae-4ff3-4515-aafb-4a3b18bb56aa"
      },
      "source": [
        "np.argmax(pred[100])"
      ],
      "execution_count": null,
      "outputs": [
        {
          "output_type": "execute_result",
          "data": {
            "text/plain": [
              "6"
            ]
          },
          "metadata": {
            "tags": []
          },
          "execution_count": 16
        }
      ]
    },
    {
      "cell_type": "code",
      "metadata": {
        "colab": {
          "base_uri": "https://localhost:8080/",
          "height": 459
        },
        "id": "MZDJYmxJepwT",
        "outputId": "d91b42bb-c0d0-4fa3-c39d-c0cb360dd080"
      },
      "source": [
        "y_pred = model.predict(xtest)\r\n",
        "ypred = [np.argmax(i) for i in y_pred]\r\n",
        "con_matrix = tf.math.confusion_matrix(labels=ytest, predictions=ypred)\r\n",
        "plt.figure(figsize=(10, 7))\r\n",
        "seaborn.heatmap(con_matrix, annot=True, fmt='d')\r\n",
        "plt.xlabel('Predicted Outputs')\r\n",
        "plt.ylabel('truth Values')"
      ],
      "execution_count": null,
      "outputs": [
        {
          "output_type": "execute_result",
          "data": {
            "text/plain": [
              "Text(69.0, 0.5, 'truth Values')"
            ]
          },
          "metadata": {
            "tags": []
          },
          "execution_count": 17
        },
        {
          "output_type": "display_data",
          "data": {
            "image/png": "[encoded data removed]",
            "text/plain": [
              "<Figure size 720x504 with 2 Axes>"
            ]
          },
          "metadata": {
            "tags": [],
            "needs_background": "light"
          }
        }
      ]
    }
  ]
}